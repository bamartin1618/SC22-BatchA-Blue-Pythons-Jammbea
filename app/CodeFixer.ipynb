{
 "cells": [
  {
   "cell_type": "code",
   "execution_count": 2,
   "metadata": {
    "collapsed": false
   },
   "outputs": [
    {
     "name": "stdout",
     "output_type": "stream",
     "text": [
      "Collecting flake8\r\n",
      "  Downloading flake8-4.0.1-py2.py3-none-any.whl (64 kB)\r\n",
      "\u001b[?25l\r\u001b[K     |█████▏                          | 10 kB 18.8 MB/s eta 0:00:01\r\u001b[K     |██████████▎                     | 20 kB 24.1 MB/s eta 0:00:01\r\u001b[K     |███████████████▍                | 30 kB 29.1 MB/s eta 0:00:01\r\u001b[K     |████████████████████▌           | 40 kB 30.9 MB/s eta 0:00:01\r\u001b[K     |█████████████████████████▋      | 51 kB 33.5 MB/s eta 0:00:01\r\u001b[K     |██████████████████████████████▊ | 61 kB 28.8 MB/s eta 0:00:01\r\u001b[K     |████████████████████████████████| 64 kB 3.7 MB/s \r\n"
     ]
    },
    {
     "name": "stdout",
     "output_type": "stream",
     "text": [
      "\u001b[?25hCollecting pyflakes<2.5.0,>=2.4.0\r\n",
      "  Downloading pyflakes-2.4.0-py2.py3-none-any.whl (69 kB)\r\n",
      "\u001b[?25l\r\u001b[K     |████▊                           | 10 kB 27.7 MB/s eta 0:00:01\r\u001b[K     |█████████▍                      | 20 kB 36.8 MB/s eta 0:00:01\r\u001b[K     |██████████████                  | 30 kB 44.1 MB/s eta 0:00:01\r\u001b[K     |██████████████████▉             | 40 kB 49.1 MB/s eta 0:00:01\r\u001b[K     |███████████████████████▌        | 51 kB 54.5 MB/s eta 0:00:01\r\u001b[K     |████████████████████████████▏   | 61 kB 57.5 MB/s eta 0:00:01\r\u001b[K     |████████████████████████████████| 69 kB 14.3 MB/s \r\n"
     ]
    },
    {
     "name": "stdout",
     "output_type": "stream",
     "text": [
      "\u001b[?25hRequirement already satisfied: pycodestyle<2.9.0,>=2.8.0 in /projects/2e2d14b2-3bf0-4b31-bb59-a06cad86df13/.local/lib/python3.8/site-packages (from flake8) (2.8.0)\r\n"
     ]
    },
    {
     "name": "stdout",
     "output_type": "stream",
     "text": [
      "Collecting mccabe<0.7.0,>=0.6.0\r\n",
      "  Downloading mccabe-0.6.1-py2.py3-none-any.whl (8.6 kB)\r\n"
     ]
    },
    {
     "name": "stdout",
     "output_type": "stream",
     "text": [
      "Installing collected packages: pyflakes, mccabe, flake8\r\n"
     ]
    },
    {
     "name": "stdout",
     "output_type": "stream",
     "text": [
      "Successfully installed flake8-4.0.1 mccabe-0.6.1 pyflakes-2.4.0\r\n"
     ]
    }
   ],
   "source": [
    "!pip install flake8"
   ]
  },
  {
   "cell_type": "code",
   "execution_count": 4,
   "metadata": {
    "collapsed": false
   },
   "outputs": [
    {
     "ename": "NameError",
     "evalue": "name 'prompt' is not defined",
     "output_type": "error",
     "traceback": [
      "\u001b[0;31m---------------------------------------------------------------------------\u001b[0m",
      "\u001b[0;31mNameError\u001b[0m                                 Traceback (most recent call last)",
      "Input \u001b[0;32mIn [4]\u001b[0m, in \u001b[0;36m<cell line: 5>\u001b[0;34m()\u001b[0m\n\u001b[1;32m      1\u001b[0m \u001b[38;5;28;01mfrom\u001b[39;00m \u001b[38;5;21;01maitextgen\u001b[39;00m \u001b[38;5;28;01mimport\u001b[39;00m aitextgen\n\u001b[1;32m      3\u001b[0m ai \u001b[38;5;241m=\u001b[39m aitextgen(model_folder\u001b[38;5;241m=\u001b[39m\u001b[38;5;124m\"\u001b[39m\u001b[38;5;124mmodel/\u001b[39m\u001b[38;5;124m\"\u001b[39m,\n\u001b[1;32m      4\u001b[0m                tokenizer_file\u001b[38;5;241m=\u001b[39m\u001b[38;5;124m\"\u001b[39m\u001b[38;5;124mmodel/aitextgen.tokenizer.json\u001b[39m\u001b[38;5;124m\"\u001b[39m, to_gpu\u001b[38;5;241m=\u001b[39m\u001b[38;5;28;01mFalse\u001b[39;00m)\n\u001b[0;32m----> 5\u001b[0m ai\u001b[38;5;241m.\u001b[39mgenerate_one(prompt \u001b[38;5;241m=\u001b[39m \u001b[43mprompt\u001b[49m, temperature \u001b[38;5;241m=\u001b[39m \u001b[38;5;241m0.8\u001b[39m, max_length \u001b[38;5;241m=\u001b[39m \u001b[38;5;241m250\u001b[39m)\n",
      "\u001b[0;31mNameError\u001b[0m: name 'prompt' is not defined"
     ]
    }
   ],
   "source": [
    "from aitextgen import aitextgen\n",
    "\n",
    "ai = aitextgen(model_folder=\"model/\",\n",
    "               tokenizer_file=\"model/aitextgen.tokenizer.json\", to_gpu=False)"
   ]
  },
  {
   "cell_type": "code",
   "execution_count": 22,
   "metadata": {
    "collapsed": false
   },
   "outputs": [
    {
     "name": "stdout",
     "output_type": "stream",
     "text": [
      "import random.tmp(self._components, objects.InstancePCIRequests)\r\n",
      "\r\n",
      "    def _is_indel_query(self, query, statement=0):\r\n",
      "        \r\n",
      "\r\n",
      "        if self._has_list_nodent(query, statement == 0:\r\n",
      "            statement = query.get_query_statement(query)\r\n",
      "            if self._scanning_list_variable_index():\r\n",
      "                self._statement = Explain(statement)\r\n",
      "                self._statement = self._variable_statement(statement)\r\n",
      "                if self._query_empty(self._components, objects.InstancePCIRequests)\r\n",
      "\r\n",
      "    def _is_list_variable(self):\r\n",
      "        \r\n",
      "\r\n",
      "        return self._components\r\n",
      "\r\n",
      "    def _tokenize(self, value, index):\r\n",
      "        \r\n",
      "\r\n",
      "        if not self._components:\r\n",
      "            return [(value, TCOKS_SOLDERS_URL_SIZE = self\n"
     ]
    }
   ],
   "source": [
    "codefile = open('bluepythontest.py', 'w')\n",
    "\n",
    "generated_code = ai.generate_one(prompt = 'import random', temperature = 0.7, max_length = 250).split('\\n')\n",
    "\n",
    "for line in generated_code:\n",
    "    print(line)\n",
    "    codefile.write(line)\n",
    "    \n",
    "codefile.close()"
   ]
  },
  {
   "cell_type": "code",
   "execution_count": 0,
   "metadata": {
    "collapsed": false
   },
   "outputs": [
   ],
   "source": [
   ]
  },
  {
   "cell_type": "code",
   "execution_count": 23,
   "metadata": {
    "collapsed": false
   },
   "outputs": [
    {
     "name": "stdout",
     "output_type": "stream",
     "text": [
      "import random.tmp(self._components\n",
      "\n",
      "import objects.InstancePCIRequests)\n",
      "\n",
      "\n",
      "\n",
      "    def _is_indel_query(self, query, statement=0):\n",
      "\n",
      "\n",
      "\n",
      "        if self._has_list_nodent(query, statement == 0:\n",
      "\n",
      "            statement=query.get_query_statement(query)\n",
      "\n",
      "            if self._scanning_list_variable_index():\n",
      "\n",
      "                self._statement=Explain(statement)\n",
      "\n",
      "                self._statement=self._variable_statement(statement)\n",
      "\n",
      "                if self._query_empty(self._components, objects.InstancePCIRequests)\n",
      "\n",
      "\n",
      "\n",
      "    def _is_list_variable(self):\n",
      "\n",
      "\n",
      "\n",
      "\n",
      "\n",
      "        return self._components\n",
      "\n",
      "\n",
      "\n",
      "    def _tokenize(self, value, index):\n",
      "\n",
      "\n",
      "\n",
      "\n",
      "\n",
      "        if not self._components:\n",
      "\n",
      "            return [(value, TCOKS_SOLDERS_URL_SIZE=self\n",
      "\n"
     ]
    }
   ],
   "source": [
    "import os\n",
    "\n",
    "os.system(\"autopep8 -i bluepythontest.py\")\n",
    "\n",
    "generated_code = open('bluepythontest.py', 'r')\n",
    "\n",
    "for line in generated_code.readlines():\n",
    "    print(line)"
   ]
  },
  {
   "cell_type": "code",
   "execution_count": 9,
   "metadata": {
    "collapsed": false,
    "scrolled": true
   },
   "outputs": [
    {
     "ename": "SyntaxError",
     "evalue": "invalid syntax (3984627249.py, line 1)",
     "output_type": "error",
     "traceback": [
      "\u001b[0;36m  Input \u001b[0;32mIn [9]\u001b[0;36m\u001b[0m\n\u001b[0;31m    import random.shuffle(readlist)\u001b[0m\n\u001b[0m                         ^\u001b[0m\n\u001b[0;31mSyntaxError\u001b[0m\u001b[0;31m:\u001b[0m invalid syntax\n"
     ]
    }
   ],
   "source": [
   ]
  },
  {
   "cell_type": "code",
   "execution_count": 0,
   "metadata": {
    "collapsed": false
   },
   "outputs": [
   ],
   "source": [
   ]
  }
 ],
 "metadata": {
  "kernelspec": {
   "display_name": "Python (nlp_env)",
   "language": "python",
   "metadata": {
    "debugger": true
   },
   "name": "nlp_env",
   "resource_dir": "/projects/2e2d14b2-3bf0-4b31-bb59-a06cad86df13/.local/share/jupyter/kernels/nlp_env"
  },
  "language_info": {
   "codemirror_mode": {
    "name": "ipython",
    "version": 3
   },
   "file_extension": ".py",
   "mimetype": "text/x-python",
   "name": "python",
   "nbconvert_exporter": "python",
   "pygments_lexer": "ipython3",
   "version": "3.8.13"
  }
 },
 "nbformat": 4,
 "nbformat_minor": 4
}